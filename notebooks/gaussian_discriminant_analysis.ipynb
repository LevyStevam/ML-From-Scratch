{
 "cells": [
  {
   "cell_type": "markdown",
   "metadata": {},
   "source": [
    "Árvores de Decisão com Índice de Gini\n",
    "As árvores de decisão são algoritmos de aprendizado supervisionado amplamente usados para classificação e regressão. Neste modelo, os dados são divididos recursivamente em subgrupos com base em atributos preditores, utilizando métricas como o índice de Gini para avaliar a qualidade das divisões.\n",
    "\n",
    "Fórmula do Índice de Gini\n",
    "O índice de Gini mede a impureza de um conjunto de dados. Quanto menor o índice, mais homogêneo é o conjunto. A fórmula é:\n",
    "\n",
    "𝐺\n",
    "=\n",
    "1\n",
    "−\n",
    "∑\n",
    "𝑘\n",
    "𝑃\n",
    "(\n",
    "𝐶\n",
    "𝑘\n",
    ")\n",
    "2\n",
    "G=1− \n",
    "k\n",
    "∑\n",
    "​\n",
    " P(C \n",
    "k\n",
    "​\n",
    " ) \n",
    "2\n",
    " \n",
    "𝑃\n",
    "(\n",
    "𝐶\n",
    "𝑘\n",
    ")\n",
    "P(C \n",
    "k\n",
    "​\n",
    " ): Proporção de amostras pertencentes à classe \n",
    "𝐶\n",
    "𝑘\n",
    "C \n",
    "k\n",
    "​\n",
    "  em um grupo específico.\n",
    "𝑘\n",
    "k: Classes possíveis no conjunto.\n",
    "Após uma divisão, o índice de Gini médio ponderado das ramificações é calculado:\n",
    "\n",
    "𝐺\n",
    "m\n",
    "e\n",
    "ˊ\n",
    "dio\n",
    "=\n",
    "∣\n",
    "𝐺\n",
    "esquerda\n",
    "∣\n",
    "𝑁\n",
    "𝐺\n",
    "esquerda\n",
    "+\n",
    "∣\n",
    "𝐺\n",
    "direita\n",
    "∣\n",
    "𝑁\n",
    "𝐺\n",
    "direita\n",
    "G \n",
    "m \n",
    "e\n",
    "ˊ\n",
    " dio\n",
    "​\n",
    " = \n",
    "N\n",
    "∣G \n",
    "esquerda\n",
    "​\n",
    " ∣\n",
    "​\n",
    " G \n",
    "esquerda\n",
    "​\n",
    " + \n",
    "N\n",
    "∣G \n",
    "direita\n",
    "​\n",
    " ∣\n",
    "​\n",
    " G \n",
    "direita\n",
    "​\n",
    " \n",
    "𝑁\n",
    "N: Número total de amostras no nó atual."
   ]
  },
  {
   "cell_type": "code",
   "execution_count": 1,
   "metadata": {},
   "outputs": [],
   "source": [
    "import pandas as pd\n",
    "from sklearn.model_selection import train_test_split\n",
    "\n",
    "from models.utils import accuracy, cross_validate\n",
    "from models.gaussian_discriminant_analysis.gaussian_discriminant_analysis import GaussianDiscriminantAnalysis"
   ]
  },
  {
   "cell_type": "markdown",
   "metadata": {},
   "source": [
    "## Holdout "
   ]
  },
  {
   "cell_type": "code",
   "execution_count": 2,
   "metadata": {},
   "outputs": [],
   "source": [
    "data = pd.read_csv('../data/processed/breast.csv')\n",
    "\n",
    "X = data.iloc[:, :-1].values\n",
    "y = data.iloc[:, -1].values\n",
    "\n",
    "X_train, X_test, y_train, y_test = train_test_split(X, y, test_size=0.2, random_state=0)"
   ]
  },
  {
   "cell_type": "code",
   "execution_count": 3,
   "metadata": {},
   "outputs": [],
   "source": [
    "model = GaussianDiscriminantAnalysis()"
   ]
  },
  {
   "cell_type": "code",
   "execution_count": 4,
   "metadata": {},
   "outputs": [],
   "source": [
    "model.fit(X_train,y_train)"
   ]
  },
  {
   "cell_type": "code",
   "execution_count": 5,
   "metadata": {},
   "outputs": [],
   "source": [
    "predict = model.predict(X_test)"
   ]
  },
  {
   "cell_type": "code",
   "execution_count": 7,
   "metadata": {},
   "outputs": [
    {
     "data": {
      "text/plain": [
       "np.float64(0.956140350877193)"
      ]
     },
     "execution_count": 7,
     "metadata": {},
     "output_type": "execute_result"
    }
   ],
   "source": [
    "accuracy(y_test, predict)"
   ]
  },
  {
   "cell_type": "markdown",
   "metadata": {},
   "source": [
    "## Folds"
   ]
  },
  {
   "cell_type": "code",
   "execution_count": 8,
   "metadata": {},
   "outputs": [
    {
     "name": "stdout",
     "output_type": "stream",
     "text": [
      "Média Acurácia: 0.9542, Desvio Padrão: 0.0296\n",
      "Média F1-Score: 0.9633, Desvio Padrão: 0.0241\n",
      "Média Recall: 0.9612, Desvio Padrão: 0.0221\n",
      "Média Precisão: 0.9660, Desvio Padrão: 0.0351\n"
     ]
    }
   ],
   "source": [
    "cross_validate(model, X, y)"
   ]
  }
 ],
 "metadata": {
  "kernelspec": {
   "display_name": "base",
   "language": "python",
   "name": "python3"
  },
  "language_info": {
   "codemirror_mode": {
    "name": "ipython",
    "version": 3
   },
   "file_extension": ".py",
   "mimetype": "text/x-python",
   "name": "python",
   "nbconvert_exporter": "python",
   "pygments_lexer": "ipython3",
   "version": "3.12.2"
  }
 },
 "nbformat": 4,
 "nbformat_minor": 2
}
